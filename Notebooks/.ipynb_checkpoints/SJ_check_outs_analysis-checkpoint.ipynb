{
 "cells": [
  {
   "cell_type": "markdown",
   "id": "42c8f20f",
   "metadata": {},
   "source": [
    "# SJ Check-outs Analysis"
   ]
  },
  {
   "cell_type": "markdown",
   "id": "a6ff7c79",
   "metadata": {},
   "source": [
    "This notebook works with combined data from Saint James Hotel's current monthly booking sheet and the company's archive sheets to analyse check-outs data from the beginning of the year until present (August 2023). The data required a lot of cleaning as it is inputed manually by receptionists working straight out of Microsoft Excel. \n",
    "\n",
    "Key takeaways include:  \n",
    "\n",
    "    1) a price peak in may despite a bookings peak in June/July,  \n",
    "    2) a bookings peak and Fridays and Saturdays,  \n",
    "    3) a high turnover of single guest booking staying only 1 night,  \n",
    "    4) near dominance by Booking.com as a booking provider  "
   ]
  },
  {
   "cell_type": "markdown",
   "id": "c94b759a",
   "metadata": {},
   "source": [
    "## 1) Data cleaning"
   ]
  },
  {
   "cell_type": "markdown",
   "id": "dc31767d",
   "metadata": {},
   "source": [
    "### Import data"
   ]
  },
  {
   "cell_type": "code",
   "execution_count": 12,
   "id": "fe86d1cf",
   "metadata": {},
   "outputs": [
    {
     "name": "stderr",
     "output_type": "stream",
     "text": [
      "C:\\Users\\HUAWEI\\AppData\\Local\\Programs\\Python\\Python310\\lib\\site-packages\\openpyxl\\worksheet\\_reader.py:312: UserWarning: Conditional Formatting extension is not supported and will be removed\n",
      "  warn(msg)\n"
     ]
    }
   ],
   "source": [
    "# import archive and current sheet data\n",
    "check_out_df_archive = pd.read_excel('C:/Users/HUAWEI/Desktop/Projects/SJ-Check-Outs-Analysis/Data/check_out_df.xlsx')\n",
    "check_out_df_current = pd.read_excel('C:/Users/HUAWEI/Desktop/Projects/SJ-Check-Outs-Analysis/Data/current_sheet.xlsx', 'Check-outs')\n",
    "\n",
    "# make the colnames the same\n",
    "check_out_df_current.columns = check_out_df_archive.columns\n",
    "\n",
    "# combine both dataframes\n",
    "check_out_df = pd.concat([check_out_df_archive, check_out_df_current], axis=0)\n",
    "\n",
    "# save as a new xlsx file so the columns can be changed to short date format\n",
    "check_out_df.to_excel('Data/combined_current_archive_df.xlsx')"
   ]
  },
  {
   "cell_type": "markdown",
   "id": "80e4f127",
   "metadata": {},
   "source": [
    "### Locate non-blank rows"
   ]
  },
  {
   "cell_type": "code",
   "execution_count": 1,
   "id": "771a48af",
   "metadata": {},
   "outputs": [
    {
     "ename": "NameError",
     "evalue": "name 'pd' is not defined",
     "output_type": "error",
     "traceback": [
      "\u001b[1;31m---------------------------------------------------------------------------\u001b[0m",
      "\u001b[1;31mNameError\u001b[0m                                 Traceback (most recent call last)",
      "Input \u001b[1;32mIn [1]\u001b[0m, in \u001b[0;36m<cell line: 2>\u001b[1;34m()\u001b[0m\n\u001b[0;32m      1\u001b[0m \u001b[38;5;66;03m# reads in the combined check-out dataframe\u001b[39;00m\n\u001b[1;32m----> 2\u001b[0m check_out_df \u001b[38;5;241m=\u001b[39m \u001b[43mpd\u001b[49m\u001b[38;5;241m.\u001b[39mread_excel(\u001b[38;5;124m'\u001b[39m\u001b[38;5;124mC:/Users/HUAWEI/Desktop/Projects/SJ-Check-Outs-Analysis/Data/combined_current_archive_df.xlsx\u001b[39m\u001b[38;5;124m'\u001b[39m)\n\u001b[0;32m      4\u001b[0m \u001b[38;5;66;03m# creates an index object denoting which rows are non-NA and therefore valid rows\u001b[39;00m\n\u001b[0;32m      5\u001b[0m col \u001b[38;5;241m=\u001b[39m check_out_df[\u001b[38;5;124m'\u001b[39m\u001b[38;5;124mCheck-in\u001b[39m\u001b[38;5;124m'\u001b[39m]\n",
      "\u001b[1;31mNameError\u001b[0m: name 'pd' is not defined"
     ]
    }
   ],
   "source": [
    "# reads in the combined check-out dataframe\n",
    "check_out_df = pd.read_excel('C:/Users/HUAWEI/Desktop/Projects/SJ-Check-Outs-Analysis/Data/combined_current_archive_df.xlsx')\n",
    "\n",
    "# creates an index object denoting which rows are non-NA and therefore valid rows\n",
    "col = check_out_df['Check-in']\n",
    "index = []\n",
    "for i in range(len(col)):\n",
    "    try:\n",
    "        col[i].year\n",
    "        index.append(i)\n",
    "    except:\n",
    "        pass\n",
    "\n",
    "# resets the check-out dataframe to non-NA rows\n",
    "check_out_df = check_out_df.iloc[index,:].reset_index(drop=True)\n",
    "\n",
    "# creates a new dataframe including only non-NA rows for the first 3 columns\n",
    "clean_check_out_df = pd.DataFrame()\n",
    "check_out_df = check_out_df[pd.isna(check_out_df.iloc[:,0:3]).sum(axis=1)==0].reset_index(drop=True)"
   ]
  },
  {
   "cell_type": "markdown",
   "id": "f13d3f4e",
   "metadata": {},
   "source": [
    "### Separate check-in dates"
   ]
  },
  {
   "cell_type": "code",
   "execution_count": 19,
   "id": "ecb0ec96",
   "metadata": {},
   "outputs": [],
   "source": [
    "# imports necessary libraries\n",
    "import datetime as dt\n",
    "import statistics as stats\n",
    "\n",
    "# makes sure no NA values are passed through into the clean dataset\n",
    "def get_col(df, col_name, dot_method=None):\n",
    "    col = df[col_name]\n",
    "    values = []\n",
    "    for i in range(len(col)):\n",
    "        try:\n",
    "            if dot_method != None:\n",
    "                values.append(eval('df[col_name][i]' + dot_method))\n",
    "            else:\n",
    "                values.append(df[col_name][i])\n",
    "        except:\n",
    "            pass\n",
    "    return [i for i in values if pd.isna(i) == False]\n",
    "\n",
    "# creates seperate columns for the check-in year, month and day\n",
    "clean_check_out_df['In-Year'] = get_col(check_out_df, 'Check-in', '.year')\n",
    "clean_check_out_df['In-Month'] = get_col(check_out_df, 'Check-in', '.month')\n",
    "clean_check_out_df['In-Day'] = get_col(check_out_df, 'Check-in', '.day')"
   ]
  },
  {
   "cell_type": "markdown",
   "id": "e94eb6d8",
   "metadata": {},
   "source": [
    "### Separate check-out dates"
   ]
  },
  {
   "cell_type": "code",
   "execution_count": 20,
   "id": "2e487ea2",
   "metadata": {},
   "outputs": [],
   "source": [
    "# creates an NA free nights column to be added to the check-in date to calcuate check-out\n",
    "nights = get_col(check_out_df, 'Nights')\n",
    "check_in = get_col(check_out_df, 'Check-in')\n",
    "\n",
    "# adds nights to check-in to determine check-out\n",
    "check_out = []\n",
    "for i in range(len(nights)):\n",
    "    check_out.append(check_in[i] + dt.timedelta(days = nights[i]))\n",
    "    \n",
    "# creates a new dataframe object containing check-outs data\n",
    "check_out = pd.DataFrame({'check_out': check_out})\n",
    "\n",
    "# creates 3 seperate columns for the check-outs year, month and day\n",
    "clean_check_out_df['Out-Year'] = get_col(check_out, 'check_out', '.year')\n",
    "clean_check_out_df['Out-Month'] = get_col(check_out, 'check_out', '.month')\n",
    "clean_check_out_df['Out-Day'] = get_col(check_out, 'check_out', '.day')"
   ]
  },
  {
   "cell_type": "markdown",
   "id": "9be32eb8",
   "metadata": {},
   "source": [
    "### View NAs"
   ]
  },
  {
   "cell_type": "code",
   "execution_count": 21,
   "id": "1a333aa7",
   "metadata": {},
   "outputs": [
    {
     "data": {
      "text/html": [
       "<div>\n",
       "<style scoped>\n",
       "    .dataframe tbody tr th:only-of-type {\n",
       "        vertical-align: middle;\n",
       "    }\n",
       "\n",
       "    .dataframe tbody tr th {\n",
       "        vertical-align: top;\n",
       "    }\n",
       "\n",
       "    .dataframe thead th {\n",
       "        text-align: right;\n",
       "    }\n",
       "</style>\n",
       "<table border=\"1\" class=\"dataframe\">\n",
       "  <thead>\n",
       "    <tr style=\"text-align: right;\">\n",
       "      <th></th>\n",
       "      <th>Column</th>\n",
       "      <th>NA Count</th>\n",
       "      <th>Percent (%)</th>\n",
       "    </tr>\n",
       "  </thead>\n",
       "  <tbody>\n",
       "    <tr>\n",
       "      <th>0</th>\n",
       "      <td>Nights</td>\n",
       "      <td>0</td>\n",
       "      <td>0.0</td>\n",
       "    </tr>\n",
       "    <tr>\n",
       "      <th>1</th>\n",
       "      <td>Guests</td>\n",
       "      <td>4</td>\n",
       "      <td>0.1</td>\n",
       "    </tr>\n",
       "    <tr>\n",
       "      <th>2</th>\n",
       "      <td>room</td>\n",
       "      <td>3</td>\n",
       "      <td>0.1</td>\n",
       "    </tr>\n",
       "    <tr>\n",
       "      <th>3</th>\n",
       "      <td>Price</td>\n",
       "      <td>3</td>\n",
       "      <td>0.1</td>\n",
       "    </tr>\n",
       "    <tr>\n",
       "      <th>4</th>\n",
       "      <td>Booking Type</td>\n",
       "      <td>19</td>\n",
       "      <td>0.4</td>\n",
       "    </tr>\n",
       "    <tr>\n",
       "      <th>5</th>\n",
       "      <td>KD cash</td>\n",
       "      <td>3163</td>\n",
       "      <td>65.1</td>\n",
       "    </tr>\n",
       "    <tr>\n",
       "      <th>6</th>\n",
       "      <td>KD card</td>\n",
       "      <td>2455</td>\n",
       "      <td>50.5</td>\n",
       "    </tr>\n",
       "    <tr>\n",
       "      <th>7</th>\n",
       "      <td>payment status</td>\n",
       "      <td>35</td>\n",
       "      <td>0.7</td>\n",
       "    </tr>\n",
       "    <tr>\n",
       "      <th>8</th>\n",
       "      <td>Checked status</td>\n",
       "      <td>2931</td>\n",
       "      <td>60.3</td>\n",
       "    </tr>\n",
       "  </tbody>\n",
       "</table>\n",
       "</div>"
      ],
      "text/plain": [
       "           Column  NA Count  Percent (%)\n",
       "0          Nights         0          0.0\n",
       "1          Guests         4          0.1\n",
       "2            room         3          0.1\n",
       "3           Price         3          0.1\n",
       "4    Booking Type        19          0.4\n",
       "5         KD cash      3163         65.1\n",
       "6         KD card      2455         50.5\n",
       "7  payment status        35          0.7\n",
       "8  Checked status      2931         60.3"
      ]
     },
     "execution_count": 21,
     "metadata": {},
     "output_type": "execute_result"
    }
   ],
   "source": [
    "# creates a cols object for looping\n",
    "cols = ['Nights', 'Guests', 'room', 'Price', 'Booking Type', 'KD cash', 'KD card', 'payment status', 'Checked status']\n",
    "\n",
    "# creates a length object for calculating NA percentages\n",
    "total = len(check_out_df)\n",
    "\n",
    "# calculates total NAs and NA percentages\n",
    "NAs = []\n",
    "percent = []\n",
    "for i in range(len(cols)):\n",
    "    NAs.append(sum(check_out_df[cols[i]].isna()))\n",
    "    percent.append((round(sum(check_out_df[cols[i]].isna()) / total, 3))*100)\n",
    "\n",
    "# displays NA counts and percentages as a dataframe\n",
    "pd.DataFrame({'Column': cols, 'NA Count': NAs, 'Percent (%)': percent})"
   ]
  },
  {
   "cell_type": "markdown",
   "id": "1cdcc0ac",
   "metadata": {},
   "source": [
    "### Fill NAs"
   ]
  },
  {
   "cell_type": "code",
   "execution_count": 22,
   "id": "83d3c433",
   "metadata": {},
   "outputs": [],
   "source": [
    "# assigns the nights object as the nights column\n",
    "clean_check_out_df['Nights'] = nights\n",
    "\n",
    "# fills missing guests values with the median\n",
    "clean_check_out_df['Guests'] = check_out_df['Guests'].fillna(stats.median(check_out_df['Guests']))\n",
    "\n",
    "# fills missing room values with room 21\n",
    "clean_check_out_df['Room'] = check_out_df['room'].fillna(21)\n",
    "\n",
    "# fills missing price values in with the median price\n",
    "clean_check_out_df['Price'] = check_out_df['Price'].fillna(stats.median(check_out_df['Price']))\n",
    "\n",
    "# fills missing booking type values with booking vc\n",
    "clean_check_out_df['Booking Type'] = check_out_df['Booking Type'].str.lower().fillna('Booking VC')\n",
    "\n",
    "# fills missing kd cash and card values with 0 \n",
    "clean_check_out_df['KD Cash'] = check_out_df['KD cash'].fillna(0)\n",
    "clean_check_out_df['KD Card'] = check_out_df['KD card'].fillna(0)\n",
    "\n",
    "# fills missing payment status values with 'none'\n",
    "clean_check_out_df['Payment Status'] = check_out_df['payment status'].str.lower().fillna('none')\n",
    "\n",
    "# creates a binary column where an NA value is assumed to mean the booking was not checked\n",
    "clean_check_out_df['Booking Checked'] = [1 if i is not True else 0 for i in check_out_df['Checked status'].isna()]"
   ]
  },
  {
   "cell_type": "markdown",
   "id": "df3266e8",
   "metadata": {},
   "source": [
    "## 2) Transformations"
   ]
  },
  {
   "cell_type": "markdown",
   "id": "32046edb",
   "metadata": {},
   "source": [
    "### Transform standard columns"
   ]
  },
  {
   "cell_type": "code",
   "execution_count": 23,
   "id": "6b73b3e1",
   "metadata": {},
   "outputs": [],
   "source": [
    "# bookings each month\n",
    "by_months = clean_check_out_df['In-Month'].value_counts().sort_index().iloc[0:7]\n",
    "\n",
    "# bookings by number of nights\n",
    "by_nights = clean_check_out_df['Nights'].value_counts().sort_index().iloc[0:10]\n",
    "\n",
    "# bookings by number of guests\n",
    "by_guests = clean_check_out_df['Guests'].value_counts().sort_index().iloc[0:5]\n",
    "\n",
    "# bookings by individual rooms\n",
    "by_room = clean_check_out_df['Room'].astype(str).value_counts().sort_index()\n",
    "\n",
    "# months by total price in thousands\n",
    "by_price = round(clean_check_out_df.groupby('In-Month').sum()['Price'].iloc[0:7:] / 1000, 1)"
   ]
  },
  {
   "cell_type": "markdown",
   "id": "125c1484",
   "metadata": {},
   "source": [
    "### Transform room type"
   ]
  },
  {
   "cell_type": "code",
   "execution_count": 33,
   "id": "89c9af3a",
   "metadata": {},
   "outputs": [],
   "source": [
    "# filters out problematic values\n",
    "problems = ['03/21', '1900-01-04 00:00:00', '2025-04-01 00:00:00']\n",
    "index = [True if i not in problems else False for i in by_room.index]\n",
    "by_room = by_room[index]\n",
    "\n",
    "# creates lists of rooms for each room type\n",
    "private = ['A', 'B', 'C', '30', '31', '37']\n",
    "eight_bed = ['3', '4', '21', '24']\n",
    "female = ['2', '5', '23']\n",
    "six_bed = ['36', '32']\n",
    "four_bed = ['33', '34', '35']\n",
    "triple = ['1', '6', '20', '25']\n",
    "\n",
    "# loops through the by room summary and assigns a room type to the room_type object\n",
    "room_type = []\n",
    "for  i in range(len(by_room)):\n",
    "    if by_room.index[i] in private:\n",
    "        room_type.append('Private')\n",
    "    elif by_room.index[i] in eight_bed:\n",
    "        room_type.append('8 bed')\n",
    "    elif by_room.index[i] in female:\n",
    "        room_type.append('Female')\n",
    "    elif by_room.index[i] in six_bed:\n",
    "        room_type.append('6 bed')\n",
    "    elif by_room.index[i] in four_bed:\n",
    "        room_type.append('4 bed')\n",
    "    elif by_room.index[i] in triple:\n",
    "        room_type.append('Triple')\n",
    "    else:\n",
    "        room_type.append('Multiple')\n",
    "\n",
    "# creates a dataframe of rooms, counts and types\n",
    "room_df = pd.DataFrame({'Room': by_room.index, 'Count': by_room, 'Type': room_type}).reset_index(drop=True)\n",
    "\n",
    "# sorts the data by value count\n",
    "by_room = room_df.Count.sort_values(ascending=False)\n",
    "by_room.index = room_df.Room\n",
    "\n",
    "# sums the data after grouping by room type and reverses the order to be descending\n",
    "by_room_type = room_df[['Count', 'Type']].groupby('Type').sum().iloc[:,0].sort_values(ascending=True)\n",
    "by_room_type = by_room_type[::-1]\n",
    "\n",
    "# calculates the nights booked divided by the number of rooms\n",
    "beds = [32, 24, 12, 6, 12, 3]\n",
    "percentages = []\n",
    "for i in range(len(by_room_type)-1):\n",
    "    percentages.append(round(by_room_type[i] / beds[i], 1))\n",
    "\n",
    "# transforms the by_room_type object and takes multiple out of the analysis\n",
    "by_room_type[0:6] = percentages\n",
    "by_room_type = by_room_type[0:6]"
   ]
  },
  {
   "cell_type": "markdown",
   "id": "e96791cc",
   "metadata": {},
   "source": [
    "### Transform booking type"
   ]
  },
  {
   "cell_type": "code",
   "execution_count": 9,
   "id": "3cbf6943",
   "metadata": {},
   "outputs": [],
   "source": [
    "# removes extra whitespace\n",
    "clean_check_out_df['Booking Type'] = [x.strip() for x in clean_check_out_df['Booking Type']]\n",
    "\n",
    "# converts mispelled booking vcs \n",
    "clean_check_out_df.loc[clean_check_out_df['Booking Type'] == 'booking', 'Booking Type'] = 'booking vc'\n",
    "clean_check_out_df.loc[clean_check_out_df['Booking Type'] == 'bookin vc', 'Booking Type'] = 'booking vc'\n",
    "clean_check_out_df.loc[clean_check_out_df['Booking Type'] == 'bookingvcd', 'Booking Type'] = 'booking vcd'\n",
    "\n",
    "# converts mispelled expedia vcns \n",
    "clean_check_out_df.loc[clean_check_out_df['Booking Type'] == 'expediavcn', 'Booking Type'] = 'expedia vcn'\n",
    "clean_check_out_df.loc[clean_check_out_df['Booking Type'] == 'expediavcn', 'Booking Type'] = 'expedia vcn'\n",
    "\n",
    "# converts group booking to group for concision\n",
    "clean_check_out_df.loc[clean_check_out_df['Booking Type'] == 'group booking', 'Booking Type'] = 'group'\n",
    "\n",
    "# converts trip.com entries into trip for concision\n",
    "clean_check_out_df.loc[clean_check_out_df['Booking Type'] == 'trip', 'Booking Type'] = 'trip vc'\n",
    "clean_check_out_df.loc[clean_check_out_df['Booking Type'] == 'trip.com', 'Booking Type'] = 'trip vc'\n",
    "\n",
    "# converts mispelled walk-ins \n",
    "clean_check_out_df.loc[clean_check_out_df['Booking Type'] == 'walk ', 'Booking Type'] = 'walk-in'\n",
    "clean_check_out_df.loc[clean_check_out_df['Booking Type'] == 'walk', 'Booking Type'] = 'walk-in'\n",
    "clean_check_out_df.loc[clean_check_out_df['Booking Type'] == 'wak-in', 'Booking Type'] = 'walk-in'\n",
    "clean_check_out_df.loc[clean_check_out_df['Booking Type'] == 'walk in', 'Booking Type'] = 'walk-in'\n",
    "clean_check_out_df.loc[clean_check_out_df['Booking Type'] == 'walkin', 'Booking Type'] = 'walk-in'\n",
    "\n",
    "# converts weekly rate to weekly for concision\n",
    "clean_check_out_df.loc[clean_check_out_df['Booking Type'] == 'weekly rate', 'Booking Type'] = 'weekly'\n",
    "\n",
    "# converts to lower, counts values and sorts in descending order\n",
    "by_booking_type = clean_check_out_df['Booking Type'].str.lower().value_counts().sort_values(ascending=False)"
   ]
  },
  {
   "cell_type": "markdown",
   "id": "0c87284c",
   "metadata": {},
   "source": [
    "### Transform booking provider"
   ]
  },
  {
   "cell_type": "code",
   "execution_count": 27,
   "id": "dc8aafd8",
   "metadata": {},
   "outputs": [],
   "source": [
    "# assigns different booking types to a booking_provider object\n",
    "booking_provider = []\n",
    "for i in range(len(clean_check_out_df)):\n",
    "    if 'ooking' in clean_check_out_df['Booking Type'][i]:\n",
    "        booking_provider.append('booking')\n",
    "    elif 'expedia' in clean_check_out_df['Booking Type'][i]:\n",
    "        booking_provider.append('expedia')\n",
    "    elif 'trip' in clean_check_out_df['Booking Type'][i]:\n",
    "        booking_provider.append('trip')\n",
    "    else:\n",
    "        booking_provider.append(clean_check_out_df['Booking Type'][i])\n",
    "\n",
    "# creates a new booking provider column in the clean dataframe\n",
    "clean_check_out_df['Booking provider'] = booking_provider\n",
    "\n",
    "# counts different booking provider types and converts the index to title\n",
    "by_booking_provider = clean_check_out_df['Booking provider'].value_counts().iloc[0:6]\n",
    "by_booking_provider.index = by_booking_provider.index.str.title()"
   ]
  },
  {
   "cell_type": "markdown",
   "id": "76eb1b5d",
   "metadata": {},
   "source": [
    "### Transform key deposit columns"
   ]
  },
  {
   "cell_type": "code",
   "execution_count": 28,
   "id": "9a143129",
   "metadata": {},
   "outputs": [
    {
     "name": "stderr",
     "output_type": "stream",
     "text": [
      "C:\\Users\\HUAWEI\\AppData\\Local\\Temp\\ipykernel_15760\\2618272433.py:7: SettingWithCopyWarning: \n",
      "A value is trying to be set on a copy of a slice from a DataFrame\n",
      "\n",
      "See the caveats in the documentation: https://pandas.pydata.org/pandas-docs/stable/user_guide/indexing.html#returning-a-view-versus-a-copy\n",
      "  col[i] = 0\n"
     ]
    }
   ],
   "source": [
    "# tests to see if the value in a column is numeric and assigns it 0 if not\n",
    "def to_numeric_kd_columns(col):\n",
    "    for i in range(len(col)):\n",
    "        try:\n",
    "            col[i] > 0\n",
    "        except:\n",
    "            col[i] = 0\n",
    "\n",
    "# converts both key deposit columns to numeric\n",
    "to_numeric_kd_columns(clean_check_out_df['KD Cash'])\n",
    "to_numeric_kd_columns(clean_check_out_df['KD Card'])\n",
    "\n",
    "# sums cash and card key deposits by month and then calculates a key deposit ratio\n",
    "by_KD_cash = clean_check_out_df[['In-Month', 'KD Cash']].groupby('In-Month').sum().iloc[0:7].squeeze()\n",
    "by_KD_card = clean_check_out_df[['In-Month', 'KD Card']].groupby('In-Month').sum().iloc[0:7].squeeze()\n",
    "by_KD_cash_ratio = (by_KD_cash / (by_KD_cash + by_KD_card))*100"
   ]
  },
  {
   "cell_type": "markdown",
   "id": "698cac2b",
   "metadata": {},
   "source": [
    "### Transform paid"
   ]
  },
  {
   "cell_type": "code",
   "execution_count": 29,
   "id": "e9e5d9d9",
   "metadata": {},
   "outputs": [
    {
     "name": "stderr",
     "output_type": "stream",
     "text": [
      "C:\\Users\\HUAWEI\\AppData\\Local\\Temp\\ipykernel_15760\\1244447481.py:9: SettingWithCopyWarning: \n",
      "A value is trying to be set on a copy of a slice from a DataFrame\n",
      "\n",
      "See the caveats in the documentation: https://pandas.pydata.org/pandas-docs/stable/user_guide/indexing.html#returning-a-view-versus-a-copy\n",
      "  clean_check_out_df['Payment Status'][i] = 'paid'\n"
     ]
    }
   ],
   "source": [
    "# lists all the mispellings of paid\n",
    "paid_mispellings = ['paind', 'paid  ', 'paid by paynow', 'paud ', 'piad', 'paid paynow',\n",
    "                    'paid with paynow', 'oaid', 'paid  paynow', 'paid   ', \n",
    "                    ' paid', 'paidl', 'paynow', 'paif', 'paid by pay now', 'paid ']\n",
    "\n",
    "# converts all instances of paid mispellings to paid\n",
    "for i in range(len(clean_check_out_df)):\n",
    "    if clean_check_out_df['Payment Status'][i] in paid_mispellings:\n",
    "        clean_check_out_df['Payment Status'][i] = 'paid'\n",
    "\n",
    "#  creates two binary lists indicating paid or not paid\n",
    "paid = []\n",
    "not_paid = []\n",
    "for i in range(len(clean_check_out_df)):\n",
    "    if clean_check_out_df['Payment Status'][i] == 'paid':\n",
    "        paid.append(1)\n",
    "        not_paid.append(0)\n",
    "    else:\n",
    "        paid.append(0)\n",
    "        not_paid.append(1)\n",
    "\n",
    "# creates two new binary columns in the dataframe indicating paid and not paid\n",
    "clean_check_out_df['paid'] = paid\n",
    "clean_check_out_df['not paid'] = not_paid\n",
    "\n",
    "# sums paid and not paid by month and then calculates a paid ratio\n",
    "paid_months = clean_check_out_df[['In-Month', 'paid']].groupby('In-Month').sum().iloc[0:7].squeeze()\n",
    "not_paid_months = clean_check_out_df[['In-Month', 'not paid']].groupby('In-Month').sum().iloc[0:7].squeeze()\n",
    "by_payment_mistakes = round((not_paid_months / (paid_months+not_paid_months))*100,2)"
   ]
  },
  {
   "cell_type": "markdown",
   "id": "ffa69438",
   "metadata": {},
   "source": [
    "### Transform booking checked"
   ]
  },
  {
   "cell_type": "code",
   "execution_count": 30,
   "id": "bd9cd248",
   "metadata": {},
   "outputs": [],
   "source": [
    "# creates a binary variable with 1 indicating the booking was not checked\n",
    "clean_check_out_df['Booking not Checked'] = [1 if i is True else 0 for i in check_out_df['Checked status'].isna()]\n",
    "\n",
    "# creates two list of binary variables indictaing booking checked and not checked\n",
    "checked = clean_check_out_df[['In-Month', 'Booking Checked']].groupby('In-Month').sum().iloc[0:7].squeeze()\n",
    "not_checked = clean_check_out_df[['In-Month', 'Booking not Checked']].groupby('In-Month').sum().iloc[0:7].squeeze()\n",
    "\n",
    "# creates a percentage ratio of bookings checked each month\n",
    "by_booking_checked = round((checked / (checked+not_checked))*100,2)"
   ]
  },
  {
   "cell_type": "markdown",
   "id": "ecc6dd83",
   "metadata": {},
   "source": [
    "### Transform dates to weekdays"
   ]
  },
  {
   "cell_type": "code",
   "execution_count": 31,
   "id": "67c0cf9e",
   "metadata": {},
   "outputs": [],
   "source": [
    "# takes in the date and gives back the day of the week\n",
    "def calculate_day_of_week(year, month, day):\n",
    "    try:\n",
    "        # Create a datetime object for the given date\n",
    "        date_obj = dt.datetime(year, month, day)\n",
    "        # Get the day of the week as an integer (Monday is 0 and Sunday is 6)\n",
    "        day_of_week = date_obj.weekday()\n",
    "        \n",
    "        return day_of_week\n",
    "    except ValueError as e:\n",
    "        return str(e)\n",
    "\n",
    "# calculates the day of the week for each booking in the dataframe\n",
    "weekdays = []\n",
    "for i in range(len(clean_check_out_df)):\n",
    "    year = clean_check_out_df['In-Year'][i]\n",
    "    month = clean_check_out_df['In-Month'][i]\n",
    "    day = clean_check_out_df['In-Day'][i]\n",
    "    weekdays.append(calculate_day_of_week(year, month, day))\n",
    "    \n",
    "# creates a weekdays column\n",
    "clean_check_out_df['weekday'] = weekdays\n",
    "\n",
    "# counts weekdays and sorts the index\n",
    "by_weekday = clean_check_out_df['weekday'].value_counts().sort_index()"
   ]
  },
  {
   "cell_type": "markdown",
   "id": "0467fe6e",
   "metadata": {},
   "source": [
    "## 3) Vizualizations"
   ]
  },
  {
   "cell_type": "markdown",
   "id": "3ee61c5e",
   "metadata": {},
   "source": [
    "### Dashboard overview"
   ]
  },
  {
   "cell_type": "code",
   "execution_count": 34,
   "id": "268f5c1f",
   "metadata": {},
   "outputs": [
    {
     "data": {
      "image/png": "[encoded data removed]",
      "text/plain": [
       "<Figure size 1152x648 with 9 Axes>"
      ]
     },
     "metadata": {
      "needs_background": "light"
     },
     "output_type": "display_data"
    }
   ],
   "source": [
    "import matplotlib.pyplot as plt \n",
    "\n",
    "plots = ['by_months', 'by_nights', 'by_guests', 'by_weekday', 'by_room_type', 'by_booking_provider',\n",
    "         'by_price', 'by_KD_cash_ratio', 'by_booking_checked']\n",
    "titles = ['Total Bookings', 'No. of Nights Stayed', 'No. of Guests', 'Day of the Week', 'Room Type', \n",
    "          'Booking Providers', 'Total Price', 'KD Cash Ratio (%)', 'Bookings Checked (%)']\n",
    "months = ['Jan', 'Feb', 'Mar', 'Apr', 'May', 'June', 'July']\n",
    "days = [\"Mon\", \"Tue\", \"Wed\", \"Thur\", \"Fri\", \"Sat\", \"Sun\"]\n",
    "providers = ['Booking', 'Walk-in', 'HW', 'Expedia', 'BB', 'Trip']\n",
    "xticks = [months, None, None, days, None, providers, months, months, months]\n",
    "ylabs = ['Bookings', 'Bookings', 'Bookings', 'Bookings', 'Occupancy rate (%)', 'Bookings', 'Thousands (£)', '% in Cash', '%']\n",
    "colors = ['tab:blue', 'tab:red', 'tab:green', 'tab:orange', 'tab:purple', 'tab:brown', 'tab:pink', 'y', 'tab:cyan']\n",
    "\n",
    "length = len(plots)\n",
    "cols = 3\n",
    "rows = int(np.ceil(length / 3))\n",
    "\n",
    "fig, ax = plt.subplots(rows, cols, figsize=(16,9))\n",
    "fig.tight_layout(pad=3.0);\n",
    "for i in range(rows):\n",
    "    for j in range(cols):\n",
    "        num = (i*rows)-j\n",
    "        ax[i, j].bar(eval(plots[num]).index, eval(plots[num]), color=colors[num]);\n",
    "        ax[i, j].set_title(titles[num]);\n",
    "        ax[i, j].set_xticks(eval(plots[num]).index, labels=xticks[num]);\n",
    "        ax[i,j].set_ylabel(ylabs[num]);"
   ]
  }
 ],
 "metadata": {
  "kernelspec": {
   "display_name": "Python 3 (ipykernel)",
   "language": "python",
   "name": "python3"
  },
  "language_info": {
   "codemirror_mode": {
    "name": "ipython",
    "version": 3
   },
   "file_extension": ".py",
   "mimetype": "text/x-python",
   "name": "python",
   "nbconvert_exporter": "python",
   "pygments_lexer": "ipython3",
   "version": "3.10.5"
  }
 },
 "nbformat": 4,
 "nbformat_minor": 5
}
